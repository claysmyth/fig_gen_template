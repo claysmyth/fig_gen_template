{
 "cells": [
  {
   "cell_type": "code",
   "execution_count": 137,
   "metadata": {},
   "outputs": [
    {
     "name": "stdout",
     "output_type": "stream",
     "text": [
      "The autoreload extension is already loaded. To reload it, use:\n",
      "  %reload_ext autoreload\n"
     ]
    }
   ],
   "source": [
    "%load_ext autoreload\n",
    "%autoreload 2"
   ]
  },
  {
   "cell_type": "code",
   "execution_count": 279,
   "metadata": {},
   "outputs": [],
   "source": [
    "from svgutils.compose import *\n",
    "import sys\n",
    "sys.path.append('..')\n",
    "from utils import *"
   ]
  },
  {
   "cell_type": "code",
   "execution_count": 358,
   "metadata": {},
   "outputs": [],
   "source": [
    "plot_config = load_plotting_config()\n",
    "composite_fig_width = plot_config['composite_figure_width'] # Figure width in pixels      \n",
    "composite_fig_height = plot_config['composite_figure_height'] # Figure height in pixels\n",
    "subfigure_size = (plot_config['subfigure_width'], plot_config['subfigure_height'])\n",
    "font = plot_config['font_family'] # Font family\n",
    "font_size = plot_config['panel_text_label_size']\n",
    "delta_y = 15 # Additional distance for second row of panels\n"
   ]
  },
  {
   "cell_type": "code",
   "execution_count": 359,
   "metadata": {},
   "outputs": [],
   "source": [
    "# Composite figure with grid\n",
    "Figure(str(composite_fig_width), str(composite_fig_height), \n",
    "      Panel(\n",
    "              SVG(\"panel_A.svg\").scale(1),\n",
    "              Text(\"A\", 5, 10, size=font_size, weight='bold', font=font)\n",
    "             ).move(0, 10), # Move is in pixel units from the top left corner of the figure\n",
    "      Panel(\n",
    "              SVG(\"panel_B.svg\", fix_mpl=True).scale(x=1, y=1), # Can set x and y scale factors independently\n",
    "              Text(\"B\", 5, 10, size=font_size, weight='bold', font=font)\n",
    "             ).move(0, composite_fig_height/2 + delta_y),\n",
    "      Panel(\n",
    "              SVG(\"panel_C.svg\", fix_mpl=True).scale(x=1, y=1), # Can set x and y scale factors independently\n",
    "              Text(\"C\", 5, 10, size=font_size, weight='bold', font=font)\n",
    "             ).move(composite_fig_width/2, composite_fig_height/2 + delta_y),\n",
    "      Grid(20,20), # Grid spacing in pixels. Shows up in the composite figure to help with alignment. Remove or comment out this line if not needed.\n",
    "      # .tile(2, 1) # If you want to tile the panels.\n",
    "      ).save(\"composite_figure_with_grid.svg\")"
   ]
  },
  {
   "cell_type": "code",
   "execution_count": 361,
   "metadata": {},
   "outputs": [],
   "source": [
    "# Composite figure without grid.\n",
    "Figure(str(composite_fig_width), str(composite_fig_height), \n",
    "      Panel(\n",
    "              SVG(\"panel_A.svg\").scale(1),\n",
    "              Text(\"A\", 5, 10, size=font_size, weight='bold', font=font)\n",
    "             ).move(0, 10), # Move is in pixel units from the top left corner of the figure\n",
    "      Panel(\n",
    "              SVG(\"panel_B.svg\", fix_mpl=True).scale(x=1, y=1), # Can set x and y scale factors independently\n",
    "              Text(\"B\", 5, 10, size=font_size, weight='bold', font=font)\n",
    "             ).move(0, composite_fig_height/2 + delta_y),\n",
    "      Panel(\n",
    "              SVG(\"panel_C.svg\", fix_mpl=True).scale(x=1, y=1), # Can set x and y scale factors independently\n",
    "              Text(\"C\", 5, 10, size=font_size, weight='bold', font=font)\n",
    "             ).move(composite_fig_width/2, composite_fig_height/2 + delta_y),\n",
    "      # Grid(20,20), # Grid spacing in pixels. Shows up in the composite figure to help with alignment. Remove or comment out this line if not needed.\n",
    "      # .tile(2, 1) # If you want to tile the panels.\n",
    "      ).save(\"composite_figure.svg\")"
   ]
  },
  {
   "cell_type": "markdown",
   "metadata": {},
   "source": [
    "## Use cairosvg to convert to png"
   ]
  },
  {
   "cell_type": "code",
   "execution_count": null,
   "metadata": {},
   "outputs": [],
   "source": [
    "import cairosvg"
   ]
  },
  {
   "cell_type": "code",
   "execution_count": null,
   "metadata": {},
   "outputs": [],
   "source": [
    "# Specify the file paths\n",
    "input_svg_path = \"region_comparison_composite.svg\"\n",
    "output_png_path = \"region_comparison_composite.png\"\n",
    "\n",
    "# Convert SVG to PNG\n",
    "cairosvg.svg2png(url=input_svg_path, write_to=output_png_path, scale=1)"
   ]
  },
  {
   "cell_type": "markdown",
   "metadata": {},
   "source": [
    "## Use playwright to convert to png, if cairosvg does not render correctly."
   ]
  },
  {
   "cell_type": "code",
   "execution_count": 99,
   "metadata": {},
   "outputs": [],
   "source": [
    "import sys\n",
    "sys.path.append('..')\n",
    "from utils import convert_svg_to_png_playwright_async"
   ]
  },
  {
   "cell_type": "code",
   "execution_count": 362,
   "metadata": {},
   "outputs": [],
   "source": [
    "# Playwright is a browser based method, so requires async execution.\n",
    "# device_scale_factor is optional, defaults to 1. Setting to 2 will increase the size by two, thereby doubling resolution.\n",
    "# Alternatively, can set each x and y scale factor individually.\n",
    "await convert_svg_to_png_playwright_async('composite_figure.svg', 'composite_figure.png', device_scale_factor=2)"
   ]
  },
  {
   "cell_type": "code",
   "execution_count": null,
   "metadata": {},
   "outputs": [],
   "source": []
  }
 ],
 "metadata": {
  "kernelspec": {
   "display_name": "sleepclass2",
   "language": "python",
   "name": "python3"
  },
  "language_info": {
   "codemirror_mode": {
    "name": "ipython",
    "version": 3
   },
   "file_extension": ".py",
   "mimetype": "text/x-python",
   "name": "python",
   "nbconvert_exporter": "python",
   "pygments_lexer": "ipython3",
   "version": "3.13.0"
  }
 },
 "nbformat": 4,
 "nbformat_minor": 2
}
